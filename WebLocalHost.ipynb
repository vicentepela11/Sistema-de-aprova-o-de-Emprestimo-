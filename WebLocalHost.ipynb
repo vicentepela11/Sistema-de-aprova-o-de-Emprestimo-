{
 "cells": [
  {
   "cell_type": "code",
   "execution_count": 2,
   "metadata": {},
   "outputs": [],
   "source": [
    "import pickle\n",
    "\n",
    "pickle_in = open('maquina_preditiva.pkl', 'rb') \n",
    "maquina_preditiva = pickle.load(pickle_in)"
   ]
  },
  {
   "cell_type": "code",
   "execution_count": null,
   "metadata": {},
   "outputs": [],
   "source": [
    "#instalação do Pacote para Conexão do nosso Sistema na WEB \n",
    "pip install -q pyngrok"
   ]
  },
  {
   "cell_type": "code",
   "execution_count": null,
   "metadata": {},
   "outputs": [],
   "source": [
    "#instalação dos Pacotes para Implementação do nosso Sistema na WEB\n",
    "!pip install -q streamlit\n",
    "!pip install -q streamlit_ace\n"
   ]
  },
  {
   "cell_type": "code",
   "execution_count": null,
   "metadata": {},
   "outputs": [],
   "source": [
    "#Comando para Criar o Sistema no arquivo app.py\n",
    "%%writefile app.py\n",
    "import streamlit as st\n",
    "\n",
    "@st.cache()\n",
    "  \n",
    "# Criando a função que irá fazer a predição usando os dados impostados pelo usuário do Sistema \n",
    "def prediction(sexo, estado_civil, renda, emprestimo, historico_credito):   \n",
    " \n",
    "    # Pre-processando a entrada do Usuário    \n",
    "    if sexo == \"Masculino\":\n",
    "        sexo = 0\n",
    "    else:\n",
    "        sexo = 1\n",
    " \n",
    "    if estado_civil == \"Solteiro(a)\":\n",
    "        estado_civil = 0\n",
    "    else:\n",
    "        estado_civil = 1\n",
    " \n",
    "    if historico_credito == \"Débitos Pendentes\":\n",
    "        historico_credito = 0\n",
    "    else:\n",
    "        historico_credito = 1  \n",
    " \n",
    "    emprestimo = emprestimo / 1000\n",
    " \n",
    "    # Fazendo Predições\n",
    "    prediction = maquina_preditiva.predict( \n",
    "        [[sexo, estado_civil, renda, emprestimo, historico_credito]])\n",
    "     \n",
    "    if prediction == 0:\n",
    "        pred = 'Rejeitado'\n",
    "    else:\n",
    "        pred = 'Aprovado'\n",
    "    return pred\n",
    "      \n",
    "  \n",
    "# Essa função é para criação da webpage  \n",
    "def main():  \n",
    "\n",
    "    # Elementos da webpage\n",
    "    # Nesse Ponto vc deve Personalizar o Sistema com sua Marca\n",
    "    html_temp = \"\"\" \n",
    "    <div style =\"background-color:blue;padding:13px\"> \n",
    "    <h1 style =\"color:white;text-align:center;\">SAE</h1> \n",
    "    <h2 style =\"color:white;text-align:center;\">Sistema de Aprovação de Empréstimos - by Edu</h2> \n",
    "    </div> \n",
    "    \"\"\"\n",
    "      \n",
    "    # Função do stramlit que faz o display da webpage\n",
    "    st.markdown(html_temp, unsafe_allow_html = True) \n",
    "      \n",
    "    # As linhas abaixo criam as caixas na qual o usuário vai entrar com dados da pessoa que quer o empréstimo para fazer a Predição\n",
    "    sexo = st.selectbox('Sexo',(\"Masculino\",\"Feminino\"))\n",
    "    estado_civil = st.selectbox('Estado Civil',(\"Solteiro(a)\",\"Casado(a)\")) \n",
    "    renda = st.number_input(\"Renda Mensal\") \n",
    "    emprestimo = st.number_input(\"Valor Total do Empréstimo\")\n",
    "    historico_credito = st.selectbox('Histórico de Créditos',(\"Sem Débitos\",\"Débitos Pendentes\"))\n",
    "    result =\"\"\n",
    "      \n",
    "    #Quando o Usuário clicar no botão \"Verificar\" a Máquina Preditiva faz seu trabalho\n",
    "    if st.button(\"Verificar\"): \n",
    "        result = prediction(sexo, estado_civil, renda, emprestimo, historico_credito) \n",
    "        st.success('O empréstimo foi {}'.format(result))\n",
    "        print(emprestimo)\n",
    "     \n",
    "if __name__=='__main__': \n",
    "    main()"
   ]
  },
  {
   "cell_type": "code",
   "execution_count": null,
   "metadata": {},
   "outputs": [],
   "source": [
    "#Executa o sistema\n",
    "!streamlit run app.py &>/dev/null&\n",
    "\n",
    "# Importando a Biblioteca para Conexão do nosso Sistema na WEB \n",
    "from pyngrok import ngrok\n",
    "\n",
    "#Publica o sistema numa URL localhost\n",
    "public_url = ngrok.connect('8501')"
   ]
  },
  {
   "cell_type": "code",
   "execution_count": null,
   "metadata": {},
   "outputs": [],
   "source": [
    "#URL do sistema\n",
    "public_url"
   ]
  }
 ],
 "metadata": {
  "kernelspec": {
   "display_name": "Python 3",
   "language": "python",
   "name": "python3"
  },
  "language_info": {
   "codemirror_mode": {
    "name": "ipython",
    "version": 3
   },
   "file_extension": ".py",
   "mimetype": "text/x-python",
   "name": "python",
   "nbconvert_exporter": "python",
   "pygments_lexer": "ipython3",
   "version": "3.7.6"
  }
 },
 "nbformat": 4,
 "nbformat_minor": 4
}
