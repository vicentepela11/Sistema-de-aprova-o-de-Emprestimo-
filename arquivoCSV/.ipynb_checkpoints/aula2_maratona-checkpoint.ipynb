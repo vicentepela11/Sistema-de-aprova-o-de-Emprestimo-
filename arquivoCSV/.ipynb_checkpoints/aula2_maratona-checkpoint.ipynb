{
 "cells": [
  {
   "cell_type": "markdown",
   "metadata": {
    "id": "WHSU8NShZedN"
   },
   "source": [
    "![alt text](https://encrypted-tbn0.gstatic.com/images?q=tbn%3AANd9GcTK4gQ9nhwHHaSXMHpeggWg7twwMCgb877smkRmtkmDeDoGF9Z6&usqp=CAU)"
   ]
  },
  {
   "cell_type": "markdown",
   "metadata": {
    "id": "7oiQVQi0AJ6D"
   },
   "source": [
    "# <font color='Blue'>Maratona Cientista de Dados na Prática</font>\n",
    "\n",
    "### <font color='GREY'> SAE - Sistema de Aprovação de Empréstimos </font>  \n",
    "\n",
    "![](https://i.gifer.com/MKsN.gif)\n",
    "\n",
    "\n"
   ]
  },
  {
   "cell_type": "markdown",
   "metadata": {
    "id": "XcDuCbTG2PSi"
   },
   "source": [
    "# <font color='Black'> **Aula 2 - Construíndo Máquinas Preditivas** </font>\n",
    "\n",
    "![](https://play.vidyard.com/17BCs3HpfP36GhwmAgaKuC.jpg)"
   ]
  },
  {
   "cell_type": "markdown",
   "metadata": {
    "id": "xLOUwyNzQHVt"
   },
   "source": [
    "#### Vamos refazer algumas etapas da **AULA 1** para começar a construção das Máquinas Preditivas.\n"
   ]
  },
  {
   "cell_type": "code",
   "execution_count": 9,
   "metadata": {
    "id": "c6kMyerHB4tv"
   },
   "outputs": [],
   "source": [
    "## Pacotes\n",
    "import pandas as pd     #Biblioteca de Funções de Manipulação de Dados\n",
    "import seaborn as sns   #Biblioteca de Funções de Visualização Gráfica\n",
    "import warnings\n",
    "warnings.filterwarnings(\"ignore\")\n",
    "\n",
    "#Importação dos Dados\n",
    "clientes = pd.read_csv('/content/clientes.csv')\n",
    "\n",
    "#Substituindo caracteres por números\n",
    "clientes['sexo']= clientes['sexo'].map({'Male':0, 'Female':1})\n",
    "clientes['estado_civil']= clientes['estado_civil'].map({'No':0, 'Yes':1})\n",
    "clientes['aprovacao_emprestimo']= clientes['aprovacao_emprestimo'].map({'N':0, 'Y':1})\n",
    "\n",
    "# Eliminando valores Nulos\n",
    "clientes = clientes.dropna()\n",
    "\n",
    "# Separando variáveis Explicativas e Variável TARGET\n",
    "X = clientes[['sexo', 'estado_civil', 'renda', 'emprestimo', 'historico_credito']]\n",
    "y = clientes.aprovacao_emprestimo\n",
    "X.shape, y.shape\n",
    "\n",
    "# importando Pacote para Amostragem dos Dados\n",
    "from sklearn.model_selection import train_test_split\n",
    "\n",
    "# Realizando Amostragem dosa Dados\n",
    "x_train, x_teste, y_train, y_teste = train_test_split(X,y, test_size = 0.2, random_state = 7)"
   ]
  },
  {
   "cell_type": "code",
   "execution_count": null,
   "metadata": {
    "id": "5czuM8AoelMQ"
   },
   "outputs": [],
   "source": [
    "x_train"
   ]
  },
  {
   "cell_type": "markdown",
   "metadata": {
    "id": "Y3rduQxEku9Y"
   },
   "source": [
    "# 4° Construindo a Máquina Preditiva"
   ]
  },
  {
   "cell_type": "markdown",
   "metadata": {
    "id": "V4DWJ3hGhqEp"
   },
   "source": [
    "### 1° Versão da Máquina Preditiva: Criando um **baseline**\n",
    "\n",
    "Aqui nós vamos criar a primeira versão da Máquina Preditiva. Depois, vamos buscar formas de melhorar a assertividade do modelo. \n",
    "\n",
    "![](https://i.pinimg.com/originals/99/aa/fe/99aafeb638771b8cacf8a4670b34ea70.gif)"
   ]
  },
  {
   "cell_type": "code",
   "execution_count": 11,
   "metadata": {
    "id": "pMLFwuXRDdQN"
   },
   "outputs": [],
   "source": [
    "#Importando Pacotes para Construção das Máquinas Preditivas com Machine Learning\n",
    "\n",
    "## Algoritmo Random Forest\n",
    "from sklearn.ensemble import RandomForestClassifier "
   ]
  },
  {
   "cell_type": "code",
   "execution_count": 12,
   "metadata": {
    "colab": {
     "base_uri": "https://localhost:8080/"
    },
    "id": "5RMQnV0MvbpH",
    "outputId": "124247e2-ca27-4d28-a7c9-b3815aee1ddd"
   },
   "outputs": [
    {
     "data": {
      "text/plain": [
       "RandomForestClassifier(bootstrap=True, ccp_alpha=0.0, class_weight=None,\n",
       "                       criterion='gini', max_depth=None, max_features='auto',\n",
       "                       max_leaf_nodes=None, max_samples=None,\n",
       "                       min_impurity_decrease=0.0, min_impurity_split=None,\n",
       "                       min_samples_leaf=1, min_samples_split=2,\n",
       "                       min_weight_fraction_leaf=0.0, n_estimators=100,\n",
       "                       n_jobs=None, oob_score=False, random_state=None,\n",
       "                       verbose=0, warm_start=False)"
      ]
     },
     "execution_count": 12,
     "metadata": {
      "tags": []
     },
     "output_type": "execute_result"
    }
   ],
   "source": [
    "# Criando a Máquina Preditiva com o Random Forest\n",
    "maquina = RandomForestClassifier() \n",
    "maquina.fit(x_train, y_train)"
   ]
  },
  {
   "cell_type": "markdown",
   "metadata": {
    "id": "7zs6B8NF5asB"
   },
   "source": [
    "#5° Avaliando a Máquina Preditiva"
   ]
  },
  {
   "cell_type": "code",
   "execution_count": 13,
   "metadata": {
    "id": "qD22ROaYvtW2"
   },
   "outputs": [],
   "source": [
    "#Importando a Métrica de Avaliação\n",
    "from sklearn.metrics import accuracy_score"
   ]
  },
  {
   "cell_type": "code",
   "execution_count": 14,
   "metadata": {
    "colab": {
     "base_uri": "https://localhost:8080/"
    },
    "id": "oOnO2uJVxpe8",
    "outputId": "3d264eb8-ee8f-4d5e-fb9d-27475959f1d4"
   },
   "outputs": [
    {
     "data": {
      "text/plain": [
       "1.0"
      ]
     },
     "execution_count": 14,
     "metadata": {
      "tags": []
     },
     "output_type": "execute_result"
    }
   ],
   "source": [
    "#Avaliando a Acurácia da Máquina Preditiva Baseline com os dados de Treino\n",
    "pred_maquina = maquina.predict(x_train)\n",
    "accuracy_score(y_train,pred_maquina)"
   ]
  },
  {
   "cell_type": "code",
   "execution_count": 15,
   "metadata": {
    "colab": {
     "base_uri": "https://localhost:8080/"
    },
    "id": "gXAARziZwAxE",
    "outputId": "a71bcfdc-2978-4cee-9fd1-75656a4dc9ba"
   },
   "outputs": [
    {
     "data": {
      "text/plain": [
       "0.7291666666666666"
      ]
     },
     "execution_count": 15,
     "metadata": {
      "tags": []
     },
     "output_type": "execute_result"
    }
   ],
   "source": [
    "#Avaliando a Acurácia da Máquina Preditiva Baseline com dados de Teste\n",
    "pred_maquina = maquina.predict(x_teste)\n",
    "accuracy_score(y_teste,pred_maquina)"
   ]
  },
  {
   "cell_type": "markdown",
   "metadata": {
    "id": "cUQ5JbQk56wl"
   },
   "source": [
    "### 2° Versão da Máquina Preditiva: Batendo o Baseline"
   ]
  },
  {
   "cell_type": "markdown",
   "metadata": {
    "id": "ENSMMYTyY8gS"
   },
   "source": [
    "#### Tunando (calibrando) **Hiperparâmetros** do Algoritmo\n",
    "\n",
    "https://scikit-learn.org/stable/modules/generated/sklearn.ensemble.RandomForestClassifier.html"
   ]
  },
  {
   "cell_type": "markdown",
   "metadata": {
    "id": "fuzazGf_Z2PJ"
   },
   "source": [
    "Vamos utilizar um hiperparâmetro do algoritimo RANDOM FOREST de nome \"**max_depth**\", cujo objetivo é exatamente combater problemas de \"***Overfiting***\"."
   ]
  },
  {
   "cell_type": "markdown",
   "metadata": {
    "id": "xr3RhPx8U8FK"
   },
   "source": [
    "![](https://hackernoon.com/hn-images/1*SBUK2QEfCP-zvJmKm14wGQ.png)\n",
    "\n",
    "![](https://machinelearningknowledge.ai/wp-content/uploads/2019/05/Overfitting-and-Underfitting-Animation.gif)\n",
    "\n",
    "![](https://cdn-images-1.medium.com/max/1600/1*vuZxFMi5fODz2OEcpG-S1g.png)"
   ]
  },
  {
   "cell_type": "markdown",
   "metadata": {
    "id": "Hkn2odUuWvVM"
   },
   "source": [
    "### Usando o Hiperparâmetro \"**max_depth**\" para diminuir \"overfiting\""
   ]
  },
  {
   "cell_type": "code",
   "execution_count": 16,
   "metadata": {
    "colab": {
     "base_uri": "https://localhost:8080/"
    },
    "id": "SHJEOhE7yIRV",
    "outputId": "40da3cd9-94fd-44ef-9f98-a7ed1ccc1443"
   },
   "outputs": [
    {
     "data": {
      "text/plain": [
       "RandomForestClassifier(bootstrap=True, ccp_alpha=0.0, class_weight=None,\n",
       "                       criterion='gini', max_depth=4, max_features='auto',\n",
       "                       max_leaf_nodes=None, max_samples=None,\n",
       "                       min_impurity_decrease=0.0, min_impurity_split=None,\n",
       "                       min_samples_leaf=1, min_samples_split=2,\n",
       "                       min_weight_fraction_leaf=0.0, n_estimators=100,\n",
       "                       n_jobs=None, oob_score=False, random_state=7, verbose=0,\n",
       "                       warm_start=False)"
      ]
     },
     "execution_count": 16,
     "metadata": {
      "tags": []
     },
     "output_type": "execute_result"
    }
   ],
   "source": [
    "# Criando a Máquina Preditiva com o Random Forest \n",
    "maquina = RandomForestClassifier(max_depth=4, random_state = 7) \n",
    "maquina.fit(x_train, y_train)"
   ]
  },
  {
   "cell_type": "code",
   "execution_count": 17,
   "metadata": {
    "colab": {
     "base_uri": "https://localhost:8080/"
    },
    "id": "ASaXrCjpy9Bo",
    "outputId": "98522c7c-13b9-4115-efcf-71cf121e723c"
   },
   "outputs": [
    {
     "data": {
      "text/plain": [
       "0.8229166666666666"
      ]
     },
     "execution_count": 17,
     "metadata": {
      "tags": []
     },
     "output_type": "execute_result"
    }
   ],
   "source": [
    "#Avaliando a Acurácia da Máquina Preditiva Baseline com os dados de Treino\n",
    "pred_maquina_treino = maquina.predict(x_train)\n",
    "accuracy_score(y_train,pred_maquina_treino)"
   ]
  },
  {
   "cell_type": "code",
   "execution_count": 18,
   "metadata": {
    "colab": {
     "base_uri": "https://localhost:8080/"
    },
    "id": "hyvhTN-jy9Bp",
    "outputId": "84a469c6-8bc5-4007-bf0f-d6a9d74fbabb"
   },
   "outputs": [
    {
     "data": {
      "text/plain": [
       "0.78125"
      ]
     },
     "execution_count": 18,
     "metadata": {
      "tags": []
     },
     "output_type": "execute_result"
    }
   ],
   "source": [
    "#Avaliando a Acurácia da Máquina Preditiva Baseline com dados de Teste\n",
    "pred_maquina_teste = maquina.predict(x_teste)\n",
    "accuracy_score(y_teste,pred_maquina_teste)"
   ]
  },
  {
   "cell_type": "markdown",
   "metadata": {
    "id": "tBRoCZXtW8fa"
   },
   "source": [
    "![](https://i.pinimg.com/originals/33/32/cb/3332cba8c30ea6266cb86695bb59871e.gif)"
   ]
  },
  {
   "cell_type": "markdown",
   "metadata": {
    "id": "JF6KpP184sv3"
   },
   "source": [
    "### Verificando as Variáveis mais importantes"
   ]
  },
  {
   "cell_type": "code",
   "execution_count": 19,
   "metadata": {
    "colab": {
     "base_uri": "https://localhost:8080/"
    },
    "id": "0JOxn0bC21Yu",
    "outputId": "164e8a3b-4973-4e07-8179-23752a4921b1"
   },
   "outputs": [
    {
     "data": {
      "text/plain": [
       "array([0.0226187 , 0.03447823, 0.17332143, 0.17593175, 0.59364989])"
      ]
     },
     "execution_count": 19,
     "metadata": {
      "tags": []
     },
     "output_type": "execute_result"
    }
   ],
   "source": [
    "#Importancia das Variáveis\n",
    "maquina.feature_importances_"
   ]
  },
  {
   "cell_type": "code",
   "execution_count": 20,
   "metadata": {
    "colab": {
     "base_uri": "https://localhost:8080/",
     "height": 282
    },
    "id": "bvcYIJEH4Ax_",
    "outputId": "417ae3c6-c881-4532-d0ad-40435bafdd4c"
   },
   "outputs": [
    {
     "name": "stdout",
     "output_type": "stream",
     "text": [
      "[0.0226187  0.03447823 0.17332143 0.17593175 0.59364989]\n"
     ]
    },
    {
     "data": {
      "image/png": "[encoded data removed]",
      "text/plain": [
       "<Figure size 432x288 with 1 Axes>"
      ]
     },
     "metadata": {
      "needs_background": "light",
      "tags": []
     },
     "output_type": "display_data"
    }
   ],
   "source": [
    "#Importancia das Variáveis com Gráfico\n",
    "print(maquina.feature_importances_)\n",
    "# plot\n",
    "from matplotlib import pyplot\n",
    "pyplot.bar(range(len(maquina.feature_importances_)), maquina.feature_importances_)\n",
    "pyplot.show()"
   ]
  },
  {
   "cell_type": "code",
   "execution_count": null,
   "metadata": {
    "id": "cqdFeemQYRdM"
   },
   "outputs": [],
   "source": [
    "#['sexo', 'estado_civil', 'renda', 'emprestimo', 'historico_credito']"
   ]
  },
  {
   "cell_type": "markdown",
   "metadata": {
    "id": "biTwrNW20xkf"
   },
   "source": [
    "## Podemos salvar nossa Máquina Preditiva para criarmos o Sistema na WEB\n"
   ]
  },
  {
   "cell_type": "code",
   "execution_count": 21,
   "metadata": {
    "id": "ckMCugTLDq8B"
   },
   "outputs": [],
   "source": [
    "#Comando de Salvamento da Máquina Preditiva\n",
    "import pickle \n",
    "pickle_out = open(\"maquina_preditiva.pkl\", mode = \"wb\") \n",
    "pickle.dump(maquina, pickle_out) \n",
    "pickle_out.close()"
   ]
  },
  {
   "cell_type": "markdown",
   "metadata": {
    "id": "yanOX57GYo1W"
   },
   "source": [
    "![](https://nanonets.com/blog/content/images/2020/08/Comp-1_1-1.gif)"
   ]
  },
  {
   "cell_type": "markdown",
   "metadata": {
    "id": "LI4TUsUJ0u66"
   },
   "source": [
    "# <font color='Blue'>6° Deploy - Implementando a Maquina Preditiva na WEB</font>\n",
    "![](https://buhgalteru.kz/wp-content/uploads/2020/09/robot.gif)\n",
    "![](https://techcrunch.com/wp-content/uploads/2020/01/spacex-starlink-launch-jan-20.gif?w=730&crop=1)"
   ]
  },
  {
   "cell_type": "markdown",
   "metadata": {
    "id": "XTRc7NjBKG65"
   },
   "source": [
    "# Fim"
   ]
  }
 ],
 "metadata": {
  "colab": {
   "collapsed_sections": [],
   "name": "aula2_maratona.ipynb",
   "provenance": []
  },
  "kernelspec": {
   "display_name": "Python 3",
   "language": "python",
   "name": "python3"
  },
  "language_info": {
   "codemirror_mode": {
    "name": "ipython",
    "version": 3
   },
   "file_extension": ".py",
   "mimetype": "text/x-python",
   "name": "python",
   "nbconvert_exporter": "python",
   "pygments_lexer": "ipython3",
   "version": "3.7.6"
  }
 },
 "nbformat": 4,
 "nbformat_minor": 1
}
